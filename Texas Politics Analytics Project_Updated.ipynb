{
 "cells": [
  {
   "cell_type": "markdown",
   "metadata": {},
   "source": [
    "# Texas Politics - Exploratory Analysis "
   ]
  },
  {
   "cell_type": "code",
   "execution_count": 69,
   "metadata": {},
   "outputs": [
    {
     "name": "stdout",
     "output_type": "stream",
     "text": [
      "Populating the interactive namespace from numpy and matplotlib\n"
     ]
    }
   ],
   "source": [
    "#import necessary packages for analysis \n",
    "import pandas as pd\n",
    "from pandas import Series, DataFrame\n",
    "%pylab inline\n",
    "import numpy as np\n",
    "import requests\n",
    "import json\n",
    "import os\n",
    "import matplotlib.pyplot as plt\n",
    "import seaborn as sb\n",
    "\n",
    "from sklearn import linear_model\n",
    "from sklearn.linear_model import LinearRegression\n",
    "from sklearn.preprocessing import StandardScaler\n",
    "from sklearn.model_selection import train_test_split, cross_val_score, KFold\n",
    "from sklearn.linear_model import Lasso, LassoCV, ElasticNetCV, LassoLarsCV\n",
    "from sklearn.linear_model import Ridge, RidgeCV, RidgeClassifier\n",
    "from sklearn.metrics import mean_squared_error, accuracy_score, mean_absolute_error, r2_score \n",
    "\n",
    "import warnings\n",
    "warnings.simplefilter(\"ignore\")"
   ]
  },
  {
   "cell_type": "markdown",
   "metadata": {},
   "source": [
    "## Data Pre-Processing "
   ]
  },
  {
   "cell_type": "code",
   "execution_count": 138,
   "metadata": {},
   "outputs": [],
   "source": [
    "#demopgraphic data state of texas\n",
    "#read in files\n",
    "demo_2011 = pd.read_csv('2011data.csv')\n",
    "demo_2015 = pd.read_csv('2015data.csv')"
   ]
  },
  {
   "cell_type": "code",
   "execution_count": 139,
   "metadata": {},
   "outputs": [],
   "source": [
    "#reducing data to include all ages \n",
    "demo_2011 = demo_2011[demo_2011['Age'] == 'All Ages']\n",
    "demo_2015 = demo_2015[demo_2015['Age'] == 'All Ages']"
   ]
  },
  {
   "cell_type": "code",
   "execution_count": 140,
   "metadata": {},
   "outputs": [
    {
     "data": {
      "text/html": [
       "<div>\n",
       "<style scoped>\n",
       "    .dataframe tbody tr th:only-of-type {\n",
       "        vertical-align: middle;\n",
       "    }\n",
       "\n",
       "    .dataframe tbody tr th {\n",
       "        vertical-align: top;\n",
       "    }\n",
       "\n",
       "    .dataframe thead th {\n",
       "        text-align: right;\n",
       "    }\n",
       "</style>\n",
       "<table border=\"1\" class=\"dataframe\">\n",
       "  <thead>\n",
       "    <tr style=\"text-align: right;\">\n",
       "      <th></th>\n",
       "      <th>County</th>\n",
       "      <th>FIPS</th>\n",
       "      <th>Age</th>\n",
       "      <th>Total</th>\n",
       "      <th>Total Male</th>\n",
       "      <th>Total Female</th>\n",
       "      <th>Anglo Total</th>\n",
       "      <th>Anglo Male</th>\n",
       "      <th>Anglo Female</th>\n",
       "      <th>Black Total</th>\n",
       "      <th>Black Male</th>\n",
       "      <th>Black Female</th>\n",
       "      <th>Other Total</th>\n",
       "      <th>Other Male</th>\n",
       "      <th>Other Female</th>\n",
       "      <th>Hispanic Total</th>\n",
       "      <th>Hispanic Male</th>\n",
       "      <th>Hispanic Female</th>\n",
       "    </tr>\n",
       "  </thead>\n",
       "  <tbody>\n",
       "    <tr>\n",
       "      <th>0</th>\n",
       "      <td>STATE OF TEXAS</td>\n",
       "      <td>0</td>\n",
       "      <td>All Ages</td>\n",
       "      <td>27469114</td>\n",
       "      <td>13662417</td>\n",
       "      <td>13806697</td>\n",
       "      <td>11505371</td>\n",
       "      <td>5697147</td>\n",
       "      <td>5808224</td>\n",
       "      <td>3171043</td>\n",
       "      <td>1533464</td>\n",
       "      <td>1637579</td>\n",
       "      <td>1793580</td>\n",
       "      <td>878503</td>\n",
       "      <td>915077</td>\n",
       "      <td>10999120</td>\n",
       "      <td>5553303</td>\n",
       "      <td>5445817</td>\n",
       "    </tr>\n",
       "    <tr>\n",
       "      <th>87</th>\n",
       "      <td>ANDERSON COUNTY</td>\n",
       "      <td>1</td>\n",
       "      <td>All Ages</td>\n",
       "      <td>58906</td>\n",
       "      <td>35791</td>\n",
       "      <td>23115</td>\n",
       "      <td>34795</td>\n",
       "      <td>19265</td>\n",
       "      <td>15530</td>\n",
       "      <td>12309</td>\n",
       "      <td>8896</td>\n",
       "      <td>3413</td>\n",
       "      <td>1571</td>\n",
       "      <td>760</td>\n",
       "      <td>811</td>\n",
       "      <td>10231</td>\n",
       "      <td>6870</td>\n",
       "      <td>3361</td>\n",
       "    </tr>\n",
       "    <tr>\n",
       "      <th>174</th>\n",
       "      <td>ANDREWS COUNTY</td>\n",
       "      <td>3</td>\n",
       "      <td>All Ages</td>\n",
       "      <td>17920</td>\n",
       "      <td>8964</td>\n",
       "      <td>8956</td>\n",
       "      <td>7915</td>\n",
       "      <td>3857</td>\n",
       "      <td>4058</td>\n",
       "      <td>236</td>\n",
       "      <td>118</td>\n",
       "      <td>118</td>\n",
       "      <td>362</td>\n",
       "      <td>176</td>\n",
       "      <td>186</td>\n",
       "      <td>9407</td>\n",
       "      <td>4813</td>\n",
       "      <td>4594</td>\n",
       "    </tr>\n",
       "    <tr>\n",
       "      <th>261</th>\n",
       "      <td>ANGELINA COUNTY</td>\n",
       "      <td>5</td>\n",
       "      <td>All Ages</td>\n",
       "      <td>90373</td>\n",
       "      <td>44660</td>\n",
       "      <td>45713</td>\n",
       "      <td>54422</td>\n",
       "      <td>26684</td>\n",
       "      <td>27738</td>\n",
       "      <td>13427</td>\n",
       "      <td>6408</td>\n",
       "      <td>7019</td>\n",
       "      <td>2434</td>\n",
       "      <td>1151</td>\n",
       "      <td>1283</td>\n",
       "      <td>20090</td>\n",
       "      <td>10417</td>\n",
       "      <td>9673</td>\n",
       "    </tr>\n",
       "    <tr>\n",
       "      <th>348</th>\n",
       "      <td>ARANSAS COUNTY</td>\n",
       "      <td>7</td>\n",
       "      <td>All Ages</td>\n",
       "      <td>25110</td>\n",
       "      <td>12379</td>\n",
       "      <td>12731</td>\n",
       "      <td>17078</td>\n",
       "      <td>8303</td>\n",
       "      <td>8775</td>\n",
       "      <td>269</td>\n",
       "      <td>149</td>\n",
       "      <td>120</td>\n",
       "      <td>983</td>\n",
       "      <td>480</td>\n",
       "      <td>503</td>\n",
       "      <td>6780</td>\n",
       "      <td>3447</td>\n",
       "      <td>3333</td>\n",
       "    </tr>\n",
       "  </tbody>\n",
       "</table>\n",
       "</div>"
      ],
      "text/plain": [
       "              County  FIPS       Age     Total  Total Male  Total Female  \\\n",
       "0     STATE OF TEXAS     0  All Ages  27469114    13662417      13806697   \n",
       "87   ANDERSON COUNTY     1  All Ages     58906       35791         23115   \n",
       "174   ANDREWS COUNTY     3  All Ages     17920        8964          8956   \n",
       "261  ANGELINA COUNTY     5  All Ages     90373       44660         45713   \n",
       "348   ARANSAS COUNTY     7  All Ages     25110       12379         12731   \n",
       "\n",
       "     Anglo Total  Anglo Male  Anglo Female  Black Total  Black Male  \\\n",
       "0       11505371     5697147       5808224      3171043     1533464   \n",
       "87         34795       19265         15530        12309        8896   \n",
       "174         7915        3857          4058          236         118   \n",
       "261        54422       26684         27738        13427        6408   \n",
       "348        17078        8303          8775          269         149   \n",
       "\n",
       "     Black Female  Other Total  Other Male  Other Female  Hispanic Total  \\\n",
       "0         1637579      1793580      878503        915077        10999120   \n",
       "87           3413         1571         760           811           10231   \n",
       "174           118          362         176           186            9407   \n",
       "261          7019         2434        1151          1283           20090   \n",
       "348           120          983         480           503            6780   \n",
       "\n",
       "     Hispanic Male  Hispanic Female  \n",
       "0          5553303          5445817  \n",
       "87            6870             3361  \n",
       "174           4813             4594  \n",
       "261          10417             9673  \n",
       "348           3447             3333  "
      ]
     },
     "execution_count": 140,
     "metadata": {},
     "output_type": "execute_result"
    }
   ],
   "source": [
    "demo_2015.head()"
   ]
  },
  {
   "cell_type": "code",
   "execution_count": 141,
   "metadata": {},
   "outputs": [],
   "source": [
    "#need to drop the first row because we don't need total texas numbers\n",
    "demo_2015=demo_2015.drop(demo_2015.index[0])"
   ]
  },
  {
   "cell_type": "code",
   "execution_count": 142,
   "metadata": {},
   "outputs": [],
   "source": [
    "#voting results in recent elections in Texas \n",
    "#read in file\n",
    "election_results = pd.read_csv('2016Results.csv')"
   ]
  },
  {
   "cell_type": "code",
   "execution_count": 143,
   "metadata": {},
   "outputs": [
    {
     "data": {
      "text/html": [
       "<div>\n",
       "<style scoped>\n",
       "    .dataframe tbody tr th:only-of-type {\n",
       "        vertical-align: middle;\n",
       "    }\n",
       "\n",
       "    .dataframe tbody tr th {\n",
       "        vertical-align: top;\n",
       "    }\n",
       "\n",
       "    .dataframe thead th {\n",
       "        text-align: right;\n",
       "    }\n",
       "</style>\n",
       "<table border=\"1\" class=\"dataframe\">\n",
       "  <thead>\n",
       "    <tr style=\"text-align: right;\">\n",
       "      <th></th>\n",
       "      <th>State Code</th>\n",
       "      <th>County Name</th>\n",
       "      <th>County Population</th>\n",
       "      <th>Clinton or Trump State</th>\n",
       "      <th>Clinton</th>\n",
       "      <th>Trump</th>\n",
       "      <th>Total</th>\n",
       "      <th>% Clinton</th>\n",
       "      <th>% Trump</th>\n",
       "      <th>Vote Difference C-T</th>\n",
       "      <th>...</th>\n",
       "      <th>County FIPS Code</th>\n",
       "      <th>CBSA Code</th>\n",
       "      <th>CSA Code</th>\n",
       "      <th>CBSA Title</th>\n",
       "      <th>CBSA Population</th>\n",
       "      <th>Metropolitan/Micropolitan Statistical Area</th>\n",
       "      <th>CSA Title</th>\n",
       "      <th>Metropolitan Division Title</th>\n",
       "      <th>Metropolitan Division Code</th>\n",
       "      <th>Central/Outlying County</th>\n",
       "    </tr>\n",
       "  </thead>\n",
       "  <tbody>\n",
       "    <tr>\n",
       "      <th>2494</th>\n",
       "      <td>TX</td>\n",
       "      <td>Anderson County</td>\n",
       "      <td>57,580</td>\n",
       "      <td>Trump</td>\n",
       "      <td>3,358</td>\n",
       "      <td>13,165</td>\n",
       "      <td>16,887</td>\n",
       "      <td>19.89%</td>\n",
       "      <td>77.96%</td>\n",
       "      <td>(9,807)</td>\n",
       "      <td>...</td>\n",
       "      <td>1.0</td>\n",
       "      <td>37300.0</td>\n",
       "      <td>NaN</td>\n",
       "      <td>Palestine, TX</td>\n",
       "      <td>NaN</td>\n",
       "      <td>Micropolitan Statistical Area</td>\n",
       "      <td>NaN</td>\n",
       "      <td>NaN</td>\n",
       "      <td>NaN</td>\n",
       "      <td>Central</td>\n",
       "    </tr>\n",
       "    <tr>\n",
       "      <th>2495</th>\n",
       "      <td>TX</td>\n",
       "      <td>Andrews County</td>\n",
       "      <td>18,105</td>\n",
       "      <td>Trump</td>\n",
       "      <td>836</td>\n",
       "      <td>3,925</td>\n",
       "      <td>4,926</td>\n",
       "      <td>16.97%</td>\n",
       "      <td>79.68%</td>\n",
       "      <td>(3,089)</td>\n",
       "      <td>...</td>\n",
       "      <td>3.0</td>\n",
       "      <td>11380.0</td>\n",
       "      <td>NaN</td>\n",
       "      <td>Andrews, TX</td>\n",
       "      <td>NaN</td>\n",
       "      <td>Micropolitan Statistical Area</td>\n",
       "      <td>NaN</td>\n",
       "      <td>NaN</td>\n",
       "      <td>NaN</td>\n",
       "      <td>Central</td>\n",
       "    </tr>\n",
       "    <tr>\n",
       "      <th>2496</th>\n",
       "      <td>TX</td>\n",
       "      <td>Angelina County</td>\n",
       "      <td>88,255</td>\n",
       "      <td>Trump</td>\n",
       "      <td>7,538</td>\n",
       "      <td>21,666</td>\n",
       "      <td>29,870</td>\n",
       "      <td>25.24%</td>\n",
       "      <td>72.53%</td>\n",
       "      <td>(14,128)</td>\n",
       "      <td>...</td>\n",
       "      <td>5.0</td>\n",
       "      <td>31260.0</td>\n",
       "      <td>NaN</td>\n",
       "      <td>Lufkin, TX</td>\n",
       "      <td>NaN</td>\n",
       "      <td>Micropolitan Statistical Area</td>\n",
       "      <td>NaN</td>\n",
       "      <td>NaN</td>\n",
       "      <td>NaN</td>\n",
       "      <td>Central</td>\n",
       "    </tr>\n",
       "    <tr>\n",
       "      <th>2497</th>\n",
       "      <td>TX</td>\n",
       "      <td>Aransas County</td>\n",
       "      <td>25,350</td>\n",
       "      <td>Trump</td>\n",
       "      <td>2,458</td>\n",
       "      <td>7,730</td>\n",
       "      <td>10,467</td>\n",
       "      <td>23.48%</td>\n",
       "      <td>73.85%</td>\n",
       "      <td>(5,272)</td>\n",
       "      <td>...</td>\n",
       "      <td>7.0</td>\n",
       "      <td>18580.0</td>\n",
       "      <td>204.0</td>\n",
       "      <td>Corpus Christi, TX</td>\n",
       "      <td>452,422</td>\n",
       "      <td>Metropolitan Statistical Area</td>\n",
       "      <td>Corpus Christi-Kingsville-Alice, TX</td>\n",
       "      <td>NaN</td>\n",
       "      <td>NaN</td>\n",
       "      <td>Outlying</td>\n",
       "    </tr>\n",
       "    <tr>\n",
       "      <th>2498</th>\n",
       "      <td>TX</td>\n",
       "      <td>Archer County</td>\n",
       "      <td>8,715</td>\n",
       "      <td>Trump</td>\n",
       "      <td>394</td>\n",
       "      <td>3,785</td>\n",
       "      <td>4,269</td>\n",
       "      <td>9.23%</td>\n",
       "      <td>88.66%</td>\n",
       "      <td>(3,391)</td>\n",
       "      <td>...</td>\n",
       "      <td>9.0</td>\n",
       "      <td>48660.0</td>\n",
       "      <td>NaN</td>\n",
       "      <td>Wichita Falls, TX</td>\n",
       "      <td>150,780</td>\n",
       "      <td>Metropolitan Statistical Area</td>\n",
       "      <td>NaN</td>\n",
       "      <td>NaN</td>\n",
       "      <td>NaN</td>\n",
       "      <td>Outlying</td>\n",
       "    </tr>\n",
       "  </tbody>\n",
       "</table>\n",
       "<p>5 rows × 39 columns</p>\n",
       "</div>"
      ],
      "text/plain": [
       "     State Code      County Name  County Population  Clinton or Trump State  \\\n",
       "2494         TX  Anderson County             57,580                   Trump   \n",
       "2495         TX   Andrews County             18,105                   Trump   \n",
       "2496         TX  Angelina County             88,255                   Trump   \n",
       "2497         TX   Aransas County             25,350                   Trump   \n",
       "2498         TX    Archer County              8,715                   Trump   \n",
       "\n",
       "      Clinton     Trump     Total  % Clinton % Trump  Vote Difference C-T   \\\n",
       "2494    3,358    13,165    16,887     19.89%  77.96%               (9,807)   \n",
       "2495      836     3,925     4,926     16.97%  79.68%               (3,089)   \n",
       "2496    7,538    21,666    29,870     25.24%  72.53%              (14,128)   \n",
       "2497    2,458     7,730    10,467     23.48%  73.85%               (5,272)   \n",
       "2498      394     3,785     4,269      9.23%  88.66%               (3,391)   \n",
       "\n",
       "               ...           County FIPS Code CBSA Code CSA Code  \\\n",
       "2494           ...                        1.0   37300.0      NaN   \n",
       "2495           ...                        3.0   11380.0      NaN   \n",
       "2496           ...                        5.0   31260.0      NaN   \n",
       "2497           ...                        7.0   18580.0    204.0   \n",
       "2498           ...                        9.0   48660.0      NaN   \n",
       "\n",
       "              CBSA Title CBSA Population  \\\n",
       "2494       Palestine, TX             NaN   \n",
       "2495         Andrews, TX             NaN   \n",
       "2496          Lufkin, TX             NaN   \n",
       "2497  Corpus Christi, TX         452,422   \n",
       "2498   Wichita Falls, TX         150,780   \n",
       "\n",
       "     Metropolitan/Micropolitan Statistical Area  \\\n",
       "2494              Micropolitan Statistical Area   \n",
       "2495              Micropolitan Statistical Area   \n",
       "2496              Micropolitan Statistical Area   \n",
       "2497              Metropolitan Statistical Area   \n",
       "2498              Metropolitan Statistical Area   \n",
       "\n",
       "                                CSA Title Metropolitan Division Title  \\\n",
       "2494                                  NaN                         NaN   \n",
       "2495                                  NaN                         NaN   \n",
       "2496                                  NaN                         NaN   \n",
       "2497  Corpus Christi-Kingsville-Alice, TX                         NaN   \n",
       "2498                                  NaN                         NaN   \n",
       "\n",
       "     Metropolitan Division Code Central/Outlying County  \n",
       "2494                        NaN                 Central  \n",
       "2495                        NaN                 Central  \n",
       "2496                        NaN                 Central  \n",
       "2497                        NaN                Outlying  \n",
       "2498                        NaN                Outlying  \n",
       "\n",
       "[5 rows x 39 columns]"
      ]
     },
     "execution_count": 143,
     "metadata": {},
     "output_type": "execute_result"
    }
   ],
   "source": [
    "#filter election data to get only counties in Texas\n",
    "texas_results = election_results[election_results['State Code']=='TX']\n",
    "texas_results.head()\n",
    "#254 counties in the state of texas "
   ]
  },
  {
   "cell_type": "code",
   "execution_count": 144,
   "metadata": {},
   "outputs": [
    {
     "data": {
      "text/plain": [
       "Metropolitan Statistical Area    82\n",
       "Micropolitan Statistical Area    47\n",
       "Name: Metropolitan/Micropolitan Statistical Area, dtype: int64"
      ]
     },
     "execution_count": 144,
     "metadata": {},
     "output_type": "execute_result"
    }
   ],
   "source": [
    "texas_results[\"Metropolitan/Micropolitan Statistical Area\"].value_counts()"
   ]
  },
  {
   "cell_type": "code",
   "execution_count": 145,
   "metadata": {},
   "outputs": [
    {
     "data": {
      "text/html": [
       "<div>\n",
       "<style scoped>\n",
       "    .dataframe tbody tr th:only-of-type {\n",
       "        vertical-align: middle;\n",
       "    }\n",
       "\n",
       "    .dataframe tbody tr th {\n",
       "        vertical-align: top;\n",
       "    }\n",
       "\n",
       "    .dataframe thead th {\n",
       "        text-align: right;\n",
       "    }\n",
       "</style>\n",
       "<table border=\"1\" class=\"dataframe\">\n",
       "  <thead>\n",
       "    <tr style=\"text-align: right;\">\n",
       "      <th></th>\n",
       "      <th>Metropolitan Statistical Area</th>\n",
       "      <th>Micropolitan Statistical Area</th>\n",
       "    </tr>\n",
       "  </thead>\n",
       "  <tbody>\n",
       "    <tr>\n",
       "      <th>2494</th>\n",
       "      <td>0</td>\n",
       "      <td>1</td>\n",
       "    </tr>\n",
       "    <tr>\n",
       "      <th>2495</th>\n",
       "      <td>0</td>\n",
       "      <td>1</td>\n",
       "    </tr>\n",
       "    <tr>\n",
       "      <th>2496</th>\n",
       "      <td>0</td>\n",
       "      <td>1</td>\n",
       "    </tr>\n",
       "    <tr>\n",
       "      <th>2497</th>\n",
       "      <td>1</td>\n",
       "      <td>0</td>\n",
       "    </tr>\n",
       "    <tr>\n",
       "      <th>2498</th>\n",
       "      <td>1</td>\n",
       "      <td>0</td>\n",
       "    </tr>\n",
       "  </tbody>\n",
       "</table>\n",
       "</div>"
      ],
      "text/plain": [
       "      Metropolitan Statistical Area  Micropolitan Statistical Area\n",
       "2494                              0                              1\n",
       "2495                              0                              1\n",
       "2496                              0                              1\n",
       "2497                              1                              0\n",
       "2498                              1                              0"
      ]
     },
     "execution_count": 145,
     "metadata": {},
     "output_type": "execute_result"
    }
   ],
   "source": [
    "#we need to convert Metro & Micro statistical area to a dummy variable (0,1) so we can use it in the model\n",
    "dummy = pd.get_dummies(texas_results[\"Metropolitan/Micropolitan Statistical Area\"])\n",
    "dummy.head() #checking to make sure it worked "
   ]
  },
  {
   "cell_type": "code",
   "execution_count": 146,
   "metadata": {},
   "outputs": [],
   "source": [
    "#making a new dataframe w/all relevent variables for model \n",
    "df=pd.DataFrame()\n",
    "df['county'] = texas_results['County Name']\n",
    "df['county_pop'] = texas_results[' County Population ']\n",
    "\n",
    "df['2016_votes'] = texas_results[' Total ']\n",
    "df['clinton_votes'] = texas_results[' Clinton ']\n",
    "df['clinton_percent'] = texas_results['% Clinton']\n",
    "df['trump_votes'] = texas_results[' Trump ']\n",
    "df['trump_percent'] = texas_results['% Trump']\n",
    "df['2012_votes'] = texas_results[' 2012 Total Votes ']\n",
    "df['obama_votes'] = texas_results[' Obama ']\n",
    "df['obama_percent'] = texas_results['% Obama']\n",
    "df['romney_votes'] = texas_results[' Romney ']\n",
    "df['romney_percent'] = texas_results['% Romney']\n"
   ]
  },
  {
   "cell_type": "code",
   "execution_count": 147,
   "metadata": {},
   "outputs": [
    {
     "data": {
      "text/plain": [
       "(254, 14)"
      ]
     },
     "execution_count": 147,
     "metadata": {},
     "output_type": "execute_result"
    }
   ],
   "source": [
    "#add our dummy variables\n",
    "df = pd.concat([df, dummy], axis=1)\n",
    "df.head()\n",
    "df.shape"
   ]
  },
  {
   "cell_type": "code",
   "execution_count": 13,
   "metadata": {},
   "outputs": [
    {
     "data": {
      "text/html": [
       "<div>\n",
       "<style scoped>\n",
       "    .dataframe tbody tr th:only-of-type {\n",
       "        vertical-align: middle;\n",
       "    }\n",
       "\n",
       "    .dataframe tbody tr th {\n",
       "        vertical-align: top;\n",
       "    }\n",
       "\n",
       "    .dataframe thead th {\n",
       "        text-align: right;\n",
       "    }\n",
       "</style>\n",
       "<table border=\"1\" class=\"dataframe\">\n",
       "  <thead>\n",
       "    <tr style=\"text-align: right;\">\n",
       "      <th></th>\n",
       "      <th>County</th>\n",
       "      <th>female_percent</th>\n",
       "      <th>male_percent</th>\n",
       "      <th>white_percent</th>\n",
       "      <th>black_percent</th>\n",
       "      <th>hispanic_percent</th>\n",
       "      <th>other_race_percent</th>\n",
       "    </tr>\n",
       "  </thead>\n",
       "  <tbody>\n",
       "    <tr>\n",
       "      <th>87</th>\n",
       "      <td>ANDERSON COUNTY</td>\n",
       "      <td>0.392405</td>\n",
       "      <td>0.607595</td>\n",
       "      <td>0.590687</td>\n",
       "      <td>0.208960</td>\n",
       "      <td>0.173683</td>\n",
       "      <td>0.026670</td>\n",
       "    </tr>\n",
       "    <tr>\n",
       "      <th>174</th>\n",
       "      <td>ANDREWS COUNTY</td>\n",
       "      <td>0.499777</td>\n",
       "      <td>0.500223</td>\n",
       "      <td>0.441685</td>\n",
       "      <td>0.013170</td>\n",
       "      <td>0.524944</td>\n",
       "      <td>0.020201</td>\n",
       "    </tr>\n",
       "    <tr>\n",
       "      <th>261</th>\n",
       "      <td>ANGELINA COUNTY</td>\n",
       "      <td>0.505826</td>\n",
       "      <td>0.494174</td>\n",
       "      <td>0.602193</td>\n",
       "      <td>0.148573</td>\n",
       "      <td>0.222301</td>\n",
       "      <td>0.026933</td>\n",
       "    </tr>\n",
       "    <tr>\n",
       "      <th>348</th>\n",
       "      <td>ARANSAS COUNTY</td>\n",
       "      <td>0.507009</td>\n",
       "      <td>0.492991</td>\n",
       "      <td>0.680127</td>\n",
       "      <td>0.010713</td>\n",
       "      <td>0.270012</td>\n",
       "      <td>0.039148</td>\n",
       "    </tr>\n",
       "    <tr>\n",
       "      <th>435</th>\n",
       "      <td>ARCHER COUNTY</td>\n",
       "      <td>0.503612</td>\n",
       "      <td>0.496388</td>\n",
       "      <td>0.890324</td>\n",
       "      <td>0.003065</td>\n",
       "      <td>0.088222</td>\n",
       "      <td>0.018389</td>\n",
       "    </tr>\n",
       "  </tbody>\n",
       "</table>\n",
       "</div>"
      ],
      "text/plain": [
       "              County  female_percent  male_percent  white_percent  \\\n",
       "87   ANDERSON COUNTY        0.392405      0.607595       0.590687   \n",
       "174   ANDREWS COUNTY        0.499777      0.500223       0.441685   \n",
       "261  ANGELINA COUNTY        0.505826      0.494174       0.602193   \n",
       "348   ARANSAS COUNTY        0.507009      0.492991       0.680127   \n",
       "435    ARCHER COUNTY        0.503612      0.496388       0.890324   \n",
       "\n",
       "     black_percent  hispanic_percent  other_race_percent  \n",
       "87        0.208960          0.173683            0.026670  \n",
       "174       0.013170          0.524944            0.020201  \n",
       "261       0.148573          0.222301            0.026933  \n",
       "348       0.010713          0.270012            0.039148  \n",
       "435       0.003065          0.088222            0.018389  "
      ]
     },
     "execution_count": 13,
     "metadata": {},
     "output_type": "execute_result"
    }
   ],
   "source": [
    "#add demographics of counties as columns to a new df \n",
    "race=pd.DataFrame()\n",
    "race['County'] = demo_2015['County']\n",
    "race['female_percent'] = demo_2015['Total Female']/demo_2015['Total']\n",
    "race['male_percent'] = demo_2015['Total Male']/demo_2015['Total']\n",
    "race['white_percent'] = demo_2015['Anglo Total']/demo_2015['Total']\n",
    "race['black_percent'] = demo_2015['Black Total']/demo_2015['Total']\n",
    "race['hispanic_percent'] = demo_2015['Hispanic Total']/demo_2015['Total']\n",
    "race['other_race_percent'] = demo_2015['Other Total']/demo_2015['Total']\n",
    "race.head()"
   ]
  },
  {
   "cell_type": "code",
   "execution_count": 14,
   "metadata": {},
   "outputs": [
    {
     "data": {
      "text/html": [
       "<div>\n",
       "<style scoped>\n",
       "    .dataframe tbody tr th:only-of-type {\n",
       "        vertical-align: middle;\n",
       "    }\n",
       "\n",
       "    .dataframe tbody tr th {\n",
       "        vertical-align: top;\n",
       "    }\n",
       "\n",
       "    .dataframe thead th {\n",
       "        text-align: right;\n",
       "    }\n",
       "</style>\n",
       "<table border=\"1\" class=\"dataframe\">\n",
       "  <thead>\n",
       "    <tr style=\"text-align: right;\">\n",
       "      <th></th>\n",
       "      <th>county</th>\n",
       "      <th>female_percent</th>\n",
       "      <th>male_percent</th>\n",
       "      <th>white_percent</th>\n",
       "      <th>black_percent</th>\n",
       "      <th>hispanic_percent</th>\n",
       "      <th>other_race_percent</th>\n",
       "    </tr>\n",
       "  </thead>\n",
       "  <tbody>\n",
       "    <tr>\n",
       "      <th>0</th>\n",
       "      <td>STATE OF TEXAS</td>\n",
       "      <td>0.503706</td>\n",
       "      <td>0.496294</td>\n",
       "      <td>0.445665</td>\n",
       "      <td>0.114774</td>\n",
       "      <td>0.382219</td>\n",
       "      <td>0.057341</td>\n",
       "    </tr>\n",
       "    <tr>\n",
       "      <th>87</th>\n",
       "      <td>ANDERSON COUNTY</td>\n",
       "      <td>0.392971</td>\n",
       "      <td>0.607029</td>\n",
       "      <td>0.608834</td>\n",
       "      <td>0.208456</td>\n",
       "      <td>0.162344</td>\n",
       "      <td>0.020365</td>\n",
       "    </tr>\n",
       "    <tr>\n",
       "      <th>174</th>\n",
       "      <td>ANDREWS COUNTY</td>\n",
       "      <td>0.500685</td>\n",
       "      <td>0.499315</td>\n",
       "      <td>0.472630</td>\n",
       "      <td>0.013375</td>\n",
       "      <td>0.493508</td>\n",
       "      <td>0.020487</td>\n",
       "    </tr>\n",
       "    <tr>\n",
       "      <th>261</th>\n",
       "      <td>ANGELINA COUNTY</td>\n",
       "      <td>0.509296</td>\n",
       "      <td>0.490704</td>\n",
       "      <td>0.626216</td>\n",
       "      <td>0.148253</td>\n",
       "      <td>0.203018</td>\n",
       "      <td>0.022513</td>\n",
       "    </tr>\n",
       "    <tr>\n",
       "      <th>348</th>\n",
       "      <td>ARANSAS COUNTY</td>\n",
       "      <td>0.504414</td>\n",
       "      <td>0.495586</td>\n",
       "      <td>0.700823</td>\n",
       "      <td>0.010800</td>\n",
       "      <td>0.250793</td>\n",
       "      <td>0.037585</td>\n",
       "    </tr>\n",
       "  </tbody>\n",
       "</table>\n",
       "</div>"
      ],
      "text/plain": [
       "              county  female_percent  male_percent  white_percent  \\\n",
       "0     STATE OF TEXAS        0.503706      0.496294       0.445665   \n",
       "87   ANDERSON COUNTY        0.392971      0.607029       0.608834   \n",
       "174   ANDREWS COUNTY        0.500685      0.499315       0.472630   \n",
       "261  ANGELINA COUNTY        0.509296      0.490704       0.626216   \n",
       "348   ARANSAS COUNTY        0.504414      0.495586       0.700823   \n",
       "\n",
       "     black_percent  hispanic_percent  other_race_percent  \n",
       "0         0.114774          0.382219            0.057341  \n",
       "87        0.208456          0.162344            0.020365  \n",
       "174       0.013375          0.493508            0.020487  \n",
       "261       0.148253          0.203018            0.022513  \n",
       "348       0.010800          0.250793            0.037585  "
      ]
     },
     "execution_count": 14,
     "metadata": {},
     "output_type": "execute_result"
    }
   ],
   "source": [
    "#dataframe for 2011 demographics \n",
    "race_2011=pd.DataFrame()\n",
    "race_2011['county'] = demo_2011['County']\n",
    "race_2011['female_percent'] = demo_2011['Total Female']/demo_2011['Total']\n",
    "race_2011['male_percent'] = demo_2011['Total Male']/demo_2011['Total']\n",
    "race_2011['white_percent'] = demo_2011['Anglo Total']/demo_2011['Total']\n",
    "race_2011['black_percent'] = demo_2011['Black Total']/demo_2011['Total']\n",
    "race_2011['hispanic_percent'] = demo_2011['Hispanic Total']/demo_2011['Total']\n",
    "race_2011['other_race_percent'] = demo_2011['Other Total']/demo_2011['Total']\n",
    "race_2011.head()"
   ]
  },
  {
   "cell_type": "code",
   "execution_count": 15,
   "metadata": {},
   "outputs": [],
   "source": [
    "#need to drop the first row because we don't need total texas numbers\n",
    "race_2011=race_2011.drop(race_2011.index[0])"
   ]
  },
  {
   "cell_type": "code",
   "execution_count": 16,
   "metadata": {},
   "outputs": [
    {
     "data": {
      "text/plain": [
       "(254, 7)"
      ]
     },
     "execution_count": 16,
     "metadata": {},
     "output_type": "execute_result"
    }
   ],
   "source": [
    "race.shape"
   ]
  },
  {
   "cell_type": "code",
   "execution_count": 17,
   "metadata": {},
   "outputs": [
    {
     "data": {
      "text/plain": [
       "(254, 7)"
      ]
     },
     "execution_count": 17,
     "metadata": {},
     "output_type": "execute_result"
    }
   ],
   "source": [
    "race_2011.shape"
   ]
  },
  {
   "cell_type": "code",
   "execution_count": 18,
   "metadata": {},
   "outputs": [],
   "source": [
    "#need to make county lowercase in both dataframes so we can merge on county \n",
    "race_2011['county'] = race_2011[\"county\"].map(lambda x: x.lower())\n",
    "race['County'] = race[\"County\"].map(lambda x: x.lower())\n",
    "df['county'] = df['county'].map(lambda x: x.lower())"
   ]
  },
  {
   "cell_type": "code",
   "execution_count": 19,
   "metadata": {},
   "outputs": [
    {
     "data": {
      "text/html": [
       "<div>\n",
       "<style scoped>\n",
       "    .dataframe tbody tr th:only-of-type {\n",
       "        vertical-align: middle;\n",
       "    }\n",
       "\n",
       "    .dataframe tbody tr th {\n",
       "        vertical-align: top;\n",
       "    }\n",
       "\n",
       "    .dataframe thead th {\n",
       "        text-align: right;\n",
       "    }\n",
       "</style>\n",
       "<table border=\"1\" class=\"dataframe\">\n",
       "  <thead>\n",
       "    <tr style=\"text-align: right;\">\n",
       "      <th></th>\n",
       "      <th>County</th>\n",
       "      <th>female_percent</th>\n",
       "      <th>male_percent</th>\n",
       "      <th>white_percent</th>\n",
       "      <th>black_percent</th>\n",
       "      <th>hispanic_percent</th>\n",
       "      <th>other_race_percent</th>\n",
       "    </tr>\n",
       "  </thead>\n",
       "  <tbody>\n",
       "    <tr>\n",
       "      <th>5394</th>\n",
       "      <td>de witt county</td>\n",
       "      <td>0.474369</td>\n",
       "      <td>0.525631</td>\n",
       "      <td>0.535097</td>\n",
       "      <td>0.089364</td>\n",
       "      <td>0.355469</td>\n",
       "      <td>0.020069</td>\n",
       "    </tr>\n",
       "  </tbody>\n",
       "</table>\n",
       "</div>"
      ],
      "text/plain": [
       "              County  female_percent  male_percent  white_percent  \\\n",
       "5394  de witt county        0.474369      0.525631       0.535097   \n",
       "\n",
       "      black_percent  hispanic_percent  other_race_percent  \n",
       "5394       0.089364          0.355469            0.020069  "
      ]
     },
     "execution_count": 19,
     "metadata": {},
     "output_type": "execute_result"
    }
   ],
   "source": [
    "race[race['County']=='de witt county']"
   ]
  },
  {
   "cell_type": "code",
   "execution_count": 20,
   "metadata": {},
   "outputs": [],
   "source": [
    "#matching spellings of dewitt county\n",
    "race.replace(to_replace = 'de witt county', value = 'dewitt county', regex=True, inplace=True)\n",
    "race_2011.replace(to_replace = 'de witt county', value = 'dewitt county', regex=True, inplace=True)"
   ]
  },
  {
   "cell_type": "code",
   "execution_count": 21,
   "metadata": {},
   "outputs": [],
   "source": [
    "#merge w/original df \n",
    "new_df = df.merge(race, left_on='county', right_on='County')"
   ]
  },
  {
   "cell_type": "code",
   "execution_count": 22,
   "metadata": {},
   "outputs": [
    {
     "data": {
      "text/html": [
       "<div>\n",
       "<style scoped>\n",
       "    .dataframe tbody tr th:only-of-type {\n",
       "        vertical-align: middle;\n",
       "    }\n",
       "\n",
       "    .dataframe tbody tr th {\n",
       "        vertical-align: top;\n",
       "    }\n",
       "\n",
       "    .dataframe thead th {\n",
       "        text-align: right;\n",
       "    }\n",
       "</style>\n",
       "<table border=\"1\" class=\"dataframe\">\n",
       "  <thead>\n",
       "    <tr style=\"text-align: right;\">\n",
       "      <th></th>\n",
       "      <th>county</th>\n",
       "      <th>county_pop</th>\n",
       "      <th>2016_votes</th>\n",
       "      <th>clinton_votes</th>\n",
       "      <th>clinton_percent</th>\n",
       "      <th>trump_votes</th>\n",
       "      <th>trump_percent</th>\n",
       "      <th>2012_votes</th>\n",
       "      <th>obama_votes</th>\n",
       "      <th>obama_percent</th>\n",
       "      <th>...</th>\n",
       "      <th>romney_percent</th>\n",
       "      <th>Metropolitan Statistical Area</th>\n",
       "      <th>Micropolitan Statistical Area</th>\n",
       "      <th>County</th>\n",
       "      <th>female_percent</th>\n",
       "      <th>male_percent</th>\n",
       "      <th>white_percent</th>\n",
       "      <th>black_percent</th>\n",
       "      <th>hispanic_percent</th>\n",
       "      <th>other_race_percent</th>\n",
       "    </tr>\n",
       "  </thead>\n",
       "  <tbody>\n",
       "    <tr>\n",
       "      <th>0</th>\n",
       "      <td>anderson county</td>\n",
       "      <td>57,580</td>\n",
       "      <td>16,887</td>\n",
       "      <td>3,358</td>\n",
       "      <td>19.89%</td>\n",
       "      <td>13,165</td>\n",
       "      <td>77.96%</td>\n",
       "      <td>16,167</td>\n",
       "      <td>3,796</td>\n",
       "      <td>23.48%</td>\n",
       "      <td>...</td>\n",
       "      <td>75.68%</td>\n",
       "      <td>0</td>\n",
       "      <td>1</td>\n",
       "      <td>anderson county</td>\n",
       "      <td>0.392405</td>\n",
       "      <td>0.607595</td>\n",
       "      <td>0.590687</td>\n",
       "      <td>0.208960</td>\n",
       "      <td>0.173683</td>\n",
       "      <td>0.026670</td>\n",
       "    </tr>\n",
       "    <tr>\n",
       "      <th>1</th>\n",
       "      <td>andrews county</td>\n",
       "      <td>18,105</td>\n",
       "      <td>4,926</td>\n",
       "      <td>836</td>\n",
       "      <td>16.97%</td>\n",
       "      <td>3,925</td>\n",
       "      <td>79.68%</td>\n",
       "      <td>4,476</td>\n",
       "      <td>794</td>\n",
       "      <td>17.74%</td>\n",
       "      <td>...</td>\n",
       "      <td>81.23%</td>\n",
       "      <td>0</td>\n",
       "      <td>1</td>\n",
       "      <td>andrews county</td>\n",
       "      <td>0.499777</td>\n",
       "      <td>0.500223</td>\n",
       "      <td>0.441685</td>\n",
       "      <td>0.013170</td>\n",
       "      <td>0.524944</td>\n",
       "      <td>0.020201</td>\n",
       "    </tr>\n",
       "    <tr>\n",
       "      <th>2</th>\n",
       "      <td>angelina county</td>\n",
       "      <td>88,255</td>\n",
       "      <td>29,870</td>\n",
       "      <td>7,538</td>\n",
       "      <td>25.24%</td>\n",
       "      <td>21,666</td>\n",
       "      <td>72.53%</td>\n",
       "      <td>28,403</td>\n",
       "      <td>7,833</td>\n",
       "      <td>27.58%</td>\n",
       "      <td>...</td>\n",
       "      <td>71.47%</td>\n",
       "      <td>0</td>\n",
       "      <td>1</td>\n",
       "      <td>angelina county</td>\n",
       "      <td>0.505826</td>\n",
       "      <td>0.494174</td>\n",
       "      <td>0.602193</td>\n",
       "      <td>0.148573</td>\n",
       "      <td>0.222301</td>\n",
       "      <td>0.026933</td>\n",
       "    </tr>\n",
       "    <tr>\n",
       "      <th>3</th>\n",
       "      <td>aransas county</td>\n",
       "      <td>25,350</td>\n",
       "      <td>10,467</td>\n",
       "      <td>2,458</td>\n",
       "      <td>23.48%</td>\n",
       "      <td>7,730</td>\n",
       "      <td>73.85%</td>\n",
       "      <td>9,646</td>\n",
       "      <td>2,703</td>\n",
       "      <td>28.02%</td>\n",
       "      <td>...</td>\n",
       "      <td>70.80%</td>\n",
       "      <td>1</td>\n",
       "      <td>0</td>\n",
       "      <td>aransas county</td>\n",
       "      <td>0.507009</td>\n",
       "      <td>0.492991</td>\n",
       "      <td>0.680127</td>\n",
       "      <td>0.010713</td>\n",
       "      <td>0.270012</td>\n",
       "      <td>0.039148</td>\n",
       "    </tr>\n",
       "    <tr>\n",
       "      <th>4</th>\n",
       "      <td>archer county</td>\n",
       "      <td>8,715</td>\n",
       "      <td>4,269</td>\n",
       "      <td>394</td>\n",
       "      <td>9.23%</td>\n",
       "      <td>3,785</td>\n",
       "      <td>88.66%</td>\n",
       "      <td>4,163</td>\n",
       "      <td>525</td>\n",
       "      <td>12.61%</td>\n",
       "      <td>...</td>\n",
       "      <td>86.45%</td>\n",
       "      <td>1</td>\n",
       "      <td>0</td>\n",
       "      <td>archer county</td>\n",
       "      <td>0.503612</td>\n",
       "      <td>0.496388</td>\n",
       "      <td>0.890324</td>\n",
       "      <td>0.003065</td>\n",
       "      <td>0.088222</td>\n",
       "      <td>0.018389</td>\n",
       "    </tr>\n",
       "  </tbody>\n",
       "</table>\n",
       "<p>5 rows × 21 columns</p>\n",
       "</div>"
      ],
      "text/plain": [
       "            county county_pop 2016_votes clinton_votes clinton_percent  \\\n",
       "0  anderson county    57,580     16,887         3,358           19.89%   \n",
       "1   andrews county    18,105      4,926           836           16.97%   \n",
       "2  angelina county    88,255     29,870         7,538           25.24%   \n",
       "3   aransas county    25,350     10,467         2,458           23.48%   \n",
       "4    archer county     8,715      4,269           394            9.23%   \n",
       "\n",
       "  trump_votes trump_percent 2012_votes obama_votes obama_percent  \\\n",
       "0     13,165         77.96%    16,167       3,796         23.48%   \n",
       "1      3,925         79.68%     4,476         794         17.74%   \n",
       "2     21,666         72.53%    28,403       7,833         27.58%   \n",
       "3      7,730         73.85%     9,646       2,703         28.02%   \n",
       "4      3,785         88.66%     4,163         525         12.61%   \n",
       "\n",
       "          ...         romney_percent Metropolitan Statistical Area  \\\n",
       "0         ...                 75.68%                             0   \n",
       "1         ...                 81.23%                             0   \n",
       "2         ...                 71.47%                             0   \n",
       "3         ...                 70.80%                             1   \n",
       "4         ...                 86.45%                             1   \n",
       "\n",
       "   Micropolitan Statistical Area           County female_percent  \\\n",
       "0                              1  anderson county       0.392405   \n",
       "1                              1   andrews county       0.499777   \n",
       "2                              1  angelina county       0.505826   \n",
       "3                              0   aransas county       0.507009   \n",
       "4                              0    archer county       0.503612   \n",
       "\n",
       "   male_percent  white_percent  black_percent  hispanic_percent  \\\n",
       "0      0.607595       0.590687       0.208960          0.173683   \n",
       "1      0.500223       0.441685       0.013170          0.524944   \n",
       "2      0.494174       0.602193       0.148573          0.222301   \n",
       "3      0.492991       0.680127       0.010713          0.270012   \n",
       "4      0.496388       0.890324       0.003065          0.088222   \n",
       "\n",
       "   other_race_percent  \n",
       "0            0.026670  \n",
       "1            0.020201  \n",
       "2            0.026933  \n",
       "3            0.039148  \n",
       "4            0.018389  \n",
       "\n",
       "[5 rows x 21 columns]"
      ]
     },
     "execution_count": 22,
     "metadata": {},
     "output_type": "execute_result"
    }
   ],
   "source": [
    "new_df.head()"
   ]
  },
  {
   "cell_type": "code",
   "execution_count": 23,
   "metadata": {},
   "outputs": [
    {
     "data": {
      "text/plain": [
       "(254, 21)"
      ]
     },
     "execution_count": 23,
     "metadata": {},
     "output_type": "execute_result"
    }
   ],
   "source": [
    "new_df.shape"
   ]
  },
  {
   "cell_type": "code",
   "execution_count": 24,
   "metadata": {},
   "outputs": [],
   "source": [
    "#function to convert percentages to decimals\n",
    "def decimal(x):\n",
    "    return float(x.strip('%'))/100"
   ]
  },
  {
   "cell_type": "code",
   "execution_count": 25,
   "metadata": {},
   "outputs": [],
   "source": [
    "#apply function to all columns with percentages \n",
    "new_df['clinton_percent']=new_df['clinton_percent'].map(decimal)\n",
    "new_df['trump_percent']=new_df['trump_percent'].map(decimal)\n",
    "new_df['obama_percent']=new_df['obama_percent'].map(decimal)\n",
    "new_df['romney_percent']=new_df['romney_percent'].map(decimal)"
   ]
  },
  {
   "cell_type": "code",
   "execution_count": 26,
   "metadata": {},
   "outputs": [],
   "source": [
    "#reomving commas from columns needed for model \n",
    "new_df['2012_votes'] = new_df['2012_votes'].map(lambda x: x.replace(',',''))\n",
    "new_df['county_pop'] = new_df['county_pop'].map(lambda x: x.replace(',',''))\n",
    "new_df['2016_votes'] = new_df['2016_votes'].map(lambda x: x.replace(',',''))"
   ]
  },
  {
   "cell_type": "code",
   "execution_count": 27,
   "metadata": {},
   "outputs": [
    {
     "data": {
      "text/html": [
       "<div>\n",
       "<style scoped>\n",
       "    .dataframe tbody tr th:only-of-type {\n",
       "        vertical-align: middle;\n",
       "    }\n",
       "\n",
       "    .dataframe tbody tr th {\n",
       "        vertical-align: top;\n",
       "    }\n",
       "\n",
       "    .dataframe thead th {\n",
       "        text-align: right;\n",
       "    }\n",
       "</style>\n",
       "<table border=\"1\" class=\"dataframe\">\n",
       "  <thead>\n",
       "    <tr style=\"text-align: right;\">\n",
       "      <th></th>\n",
       "      <th>county</th>\n",
       "      <th>county_pop</th>\n",
       "      <th>2016_votes</th>\n",
       "      <th>clinton_votes</th>\n",
       "      <th>clinton_percent</th>\n",
       "      <th>trump_votes</th>\n",
       "      <th>trump_percent</th>\n",
       "      <th>2012_votes</th>\n",
       "      <th>obama_votes</th>\n",
       "      <th>obama_percent</th>\n",
       "      <th>...</th>\n",
       "      <th>romney_percent</th>\n",
       "      <th>Metropolitan Statistical Area</th>\n",
       "      <th>Micropolitan Statistical Area</th>\n",
       "      <th>County</th>\n",
       "      <th>female_percent</th>\n",
       "      <th>male_percent</th>\n",
       "      <th>white_percent</th>\n",
       "      <th>black_percent</th>\n",
       "      <th>hispanic_percent</th>\n",
       "      <th>other_race_percent</th>\n",
       "    </tr>\n",
       "  </thead>\n",
       "  <tbody>\n",
       "    <tr>\n",
       "      <th>0</th>\n",
       "      <td>anderson county</td>\n",
       "      <td>57580</td>\n",
       "      <td>16887</td>\n",
       "      <td>3,358</td>\n",
       "      <td>0.1989</td>\n",
       "      <td>13,165</td>\n",
       "      <td>0.7796</td>\n",
       "      <td>16167</td>\n",
       "      <td>3,796</td>\n",
       "      <td>0.2348</td>\n",
       "      <td>...</td>\n",
       "      <td>0.7568</td>\n",
       "      <td>0</td>\n",
       "      <td>1</td>\n",
       "      <td>anderson county</td>\n",
       "      <td>0.392405</td>\n",
       "      <td>0.607595</td>\n",
       "      <td>0.590687</td>\n",
       "      <td>0.208960</td>\n",
       "      <td>0.173683</td>\n",
       "      <td>0.026670</td>\n",
       "    </tr>\n",
       "    <tr>\n",
       "      <th>1</th>\n",
       "      <td>andrews county</td>\n",
       "      <td>18105</td>\n",
       "      <td>4926</td>\n",
       "      <td>836</td>\n",
       "      <td>0.1697</td>\n",
       "      <td>3,925</td>\n",
       "      <td>0.7968</td>\n",
       "      <td>4476</td>\n",
       "      <td>794</td>\n",
       "      <td>0.1774</td>\n",
       "      <td>...</td>\n",
       "      <td>0.8123</td>\n",
       "      <td>0</td>\n",
       "      <td>1</td>\n",
       "      <td>andrews county</td>\n",
       "      <td>0.499777</td>\n",
       "      <td>0.500223</td>\n",
       "      <td>0.441685</td>\n",
       "      <td>0.013170</td>\n",
       "      <td>0.524944</td>\n",
       "      <td>0.020201</td>\n",
       "    </tr>\n",
       "    <tr>\n",
       "      <th>2</th>\n",
       "      <td>angelina county</td>\n",
       "      <td>88255</td>\n",
       "      <td>29870</td>\n",
       "      <td>7,538</td>\n",
       "      <td>0.2524</td>\n",
       "      <td>21,666</td>\n",
       "      <td>0.7253</td>\n",
       "      <td>28403</td>\n",
       "      <td>7,833</td>\n",
       "      <td>0.2758</td>\n",
       "      <td>...</td>\n",
       "      <td>0.7147</td>\n",
       "      <td>0</td>\n",
       "      <td>1</td>\n",
       "      <td>angelina county</td>\n",
       "      <td>0.505826</td>\n",
       "      <td>0.494174</td>\n",
       "      <td>0.602193</td>\n",
       "      <td>0.148573</td>\n",
       "      <td>0.222301</td>\n",
       "      <td>0.026933</td>\n",
       "    </tr>\n",
       "    <tr>\n",
       "      <th>3</th>\n",
       "      <td>aransas county</td>\n",
       "      <td>25350</td>\n",
       "      <td>10467</td>\n",
       "      <td>2,458</td>\n",
       "      <td>0.2348</td>\n",
       "      <td>7,730</td>\n",
       "      <td>0.7385</td>\n",
       "      <td>9646</td>\n",
       "      <td>2,703</td>\n",
       "      <td>0.2802</td>\n",
       "      <td>...</td>\n",
       "      <td>0.7080</td>\n",
       "      <td>1</td>\n",
       "      <td>0</td>\n",
       "      <td>aransas county</td>\n",
       "      <td>0.507009</td>\n",
       "      <td>0.492991</td>\n",
       "      <td>0.680127</td>\n",
       "      <td>0.010713</td>\n",
       "      <td>0.270012</td>\n",
       "      <td>0.039148</td>\n",
       "    </tr>\n",
       "    <tr>\n",
       "      <th>4</th>\n",
       "      <td>archer county</td>\n",
       "      <td>8715</td>\n",
       "      <td>4269</td>\n",
       "      <td>394</td>\n",
       "      <td>0.0923</td>\n",
       "      <td>3,785</td>\n",
       "      <td>0.8866</td>\n",
       "      <td>4163</td>\n",
       "      <td>525</td>\n",
       "      <td>0.1261</td>\n",
       "      <td>...</td>\n",
       "      <td>0.8645</td>\n",
       "      <td>1</td>\n",
       "      <td>0</td>\n",
       "      <td>archer county</td>\n",
       "      <td>0.503612</td>\n",
       "      <td>0.496388</td>\n",
       "      <td>0.890324</td>\n",
       "      <td>0.003065</td>\n",
       "      <td>0.088222</td>\n",
       "      <td>0.018389</td>\n",
       "    </tr>\n",
       "  </tbody>\n",
       "</table>\n",
       "<p>5 rows × 21 columns</p>\n",
       "</div>"
      ],
      "text/plain": [
       "            county county_pop 2016_votes clinton_votes  clinton_percent  \\\n",
       "0  anderson county     57580      16887         3,358            0.1989   \n",
       "1   andrews county     18105       4926           836            0.1697   \n",
       "2  angelina county     88255      29870         7,538            0.2524   \n",
       "3   aransas county     25350      10467         2,458            0.2348   \n",
       "4    archer county      8715       4269           394            0.0923   \n",
       "\n",
       "  trump_votes  trump_percent 2012_votes obama_votes  obama_percent  \\\n",
       "0     13,165          0.7796     16167       3,796          0.2348   \n",
       "1      3,925          0.7968      4476         794          0.1774   \n",
       "2     21,666          0.7253     28403       7,833          0.2758   \n",
       "3      7,730          0.7385      9646       2,703          0.2802   \n",
       "4      3,785          0.8866      4163         525          0.1261   \n",
       "\n",
       "          ...         romney_percent  Metropolitan Statistical Area  \\\n",
       "0         ...                 0.7568                              0   \n",
       "1         ...                 0.8123                              0   \n",
       "2         ...                 0.7147                              0   \n",
       "3         ...                 0.7080                              1   \n",
       "4         ...                 0.8645                              1   \n",
       "\n",
       "   Micropolitan Statistical Area           County female_percent  \\\n",
       "0                              1  anderson county       0.392405   \n",
       "1                              1   andrews county       0.499777   \n",
       "2                              1  angelina county       0.505826   \n",
       "3                              0   aransas county       0.507009   \n",
       "4                              0    archer county       0.503612   \n",
       "\n",
       "   male_percent  white_percent  black_percent  hispanic_percent  \\\n",
       "0      0.607595       0.590687       0.208960          0.173683   \n",
       "1      0.500223       0.441685       0.013170          0.524944   \n",
       "2      0.494174       0.602193       0.148573          0.222301   \n",
       "3      0.492991       0.680127       0.010713          0.270012   \n",
       "4      0.496388       0.890324       0.003065          0.088222   \n",
       "\n",
       "   other_race_percent  \n",
       "0            0.026670  \n",
       "1            0.020201  \n",
       "2            0.026933  \n",
       "3            0.039148  \n",
       "4            0.018389  \n",
       "\n",
       "[5 rows x 21 columns]"
      ]
     },
     "execution_count": 27,
     "metadata": {},
     "output_type": "execute_result"
    }
   ],
   "source": [
    "new_df.head()"
   ]
  },
  {
   "cell_type": "code",
   "execution_count": 28,
   "metadata": {},
   "outputs": [],
   "source": [
    "#export csv\n",
    "new_df.to_csv('texas_data.csv', encoding='utf-8')"
   ]
  },
  {
   "cell_type": "code",
   "execution_count": 29,
   "metadata": {},
   "outputs": [],
   "source": [
    "#export csv \n",
    "race_2011.to_csv('texas_data_2011.csv', encoding='utf-8')"
   ]
  },
  {
   "cell_type": "markdown",
   "metadata": {},
   "source": [
    "## Ridge Regression&Cross Validation"
   ]
  },
  {
   "cell_type": "code",
   "execution_count": 70,
   "metadata": {},
   "outputs": [
    {
     "data": {
      "text/plain": [
       "1    227\n",
       "0     27\n",
       "Name: Y, dtype: int64"
      ]
     },
     "execution_count": 70,
     "metadata": {},
     "output_type": "execute_result"
    }
   ],
   "source": [
    "#make response variable --> voting republican is 1, voting democrat is 0\n",
    "  \n",
    "new_df['Y'] = (new_df['trump_percent'] > new_df['clinton_percent']).astype(int)\n",
    "    \n",
    "new_df['Y'].value_counts()"
   ]
  },
  {
   "cell_type": "markdown",
   "metadata": {},
   "source": [
    "227 of Texas counties voted Republican in the 2016 election, versus 27 that voted Democrat "
   ]
  },
  {
   "cell_type": "code",
   "execution_count": 106,
   "metadata": {},
   "outputs": [],
   "source": [
    "#set X & Y\n",
    "x = new_df.drop(['county', 'clinton_votes', 'trump_votes', 'obama_votes', 'romney_votes', 'County', 'Y'], axis=1)\n",
    "y = new_df['Y']\n",
    "\n",
    "#split into test & train\n",
    "x_train, x_test, y_train, y_test = train_test_split(x,y, test_size = 0.20, random_state=50)"
   ]
  },
  {
   "cell_type": "code",
   "execution_count": 107,
   "metadata": {},
   "outputs": [
    {
     "name": "stdout",
     "output_type": "stream",
     "text": [
      "Best ridge alpha: 5000000000.0\n"
     ]
    }
   ],
   "source": [
    "# K Fold CV using 5 folds \n",
    "n_folds = 5\n",
    "k_fold = KFold(n_folds)\n",
    "ridge_alphas =  10**np.linspace(10,-6,100)*0.5               \n",
    "ridge_avg_mae = {}\n",
    "\n",
    "\n",
    "for alpha in ridge_alphas:\n",
    "    ridge = linear_model.Ridge(alpha=alpha)\n",
    "    avg_mae = 0\n",
    "    for k, (train, test) in enumerate(k_fold.split(x_train)):\n",
    "        ridge.fit(x_train.iloc[train], y_train.iloc[train])\n",
    "        avg_mae = avg_mae + mean_absolute_error(y_train.iloc[test], np.exp(ridge.predict(x_train.iloc[test]))) \n",
    "    ridge_avg_mae[alpha] = avg_mae / n_folds\n",
    "best_alpha_ridge = min(ridge_avg_mae, key=ridge_avg_mae.get)\n",
    "\n",
    "print(\"Best ridge alpha: {}\".format(best_alpha_ridge))"
   ]
  },
  {
   "cell_type": "code",
   "execution_count": 151,
   "metadata": {},
   "outputs": [],
   "source": [
    "ridge = linear_model.RidgeClassifier(alpha=best_alpha_ridge)\n",
    "ridge.fit(x_train, y_train)\n",
    "pred_ridge_train = ridge.predict(x_train)\n",
    "pred_ridge_test = ridge.predict(x_test)\n",
    "mae_ridge = mean_absolute_error(np.exp(pred_ridge), y_test)\n"
   ]
  },
  {
   "cell_type": "code",
   "execution_count": 152,
   "metadata": {},
   "outputs": [
    {
     "data": {
      "text/plain": [
       "array([[-5.72508418e-06,  4.02409733e-06, -1.97967802e-09,\n",
       "         1.97960043e-09,  1.35737625e-05, -2.01948888e-09,\n",
       "         2.01077238e-09,  1.03874943e-09, -1.21772778e-09,\n",
       "         2.91919940e-11, -2.91919940e-11,  2.20597320e-09,\n",
       "         2.13448781e-10, -2.41486228e-09, -4.55969347e-12]])"
      ]
     },
     "execution_count": 152,
     "metadata": {},
     "output_type": "execute_result"
    }
   ],
   "source": [
    "ridge.coef_"
   ]
  },
  {
   "cell_type": "code",
   "execution_count": 153,
   "metadata": {},
   "outputs": [
    {
     "data": {
      "text/plain": [
       "1.8414527729990635"
      ]
     },
     "execution_count": 153,
     "metadata": {},
     "output_type": "execute_result"
    }
   ],
   "source": [
    "mae_ridge"
   ]
  },
  {
   "cell_type": "code",
   "execution_count": 154,
   "metadata": {},
   "outputs": [
    {
     "name": "stdout",
     "output_type": "stream",
     "text": [
      "The mean squared error in sample is  0.06896551724137931\n",
      "The mean squared error out of sample is  0.13725490196078433\n"
     ]
    }
   ],
   "source": [
    "#MSE X_train \n",
    "print('The mean squared error in sample is ', mean_squared_error(y_train, pred_ridge_train))\n",
    "\n",
    "#MSE X_test\n",
    "print('The mean squared error out of sample is ', mean_squared_error(y_test, pred_ridge_test))"
   ]
  },
  {
   "cell_type": "code",
   "execution_count": 155,
   "metadata": {},
   "outputs": [
    {
     "data": {
      "text/plain": [
       "array([[ 1,  7],\n",
       "       [ 0, 43]])"
      ]
     },
     "execution_count": 155,
     "metadata": {},
     "output_type": "execute_result"
    }
   ],
   "source": [
    "#confusion matrix\n",
    "from sklearn.metrics import confusion_matrix\n",
    "confusion_matrix(y_test, pred_ridge_test)"
   ]
  },
  {
   "cell_type": "markdown",
   "metadata": {},
   "source": [
    "1 true positive, 7 false positives, 0 false negatives, 43 true negatives"
   ]
  },
  {
   "cell_type": "markdown",
   "metadata": {},
   "source": [
    "## Regular Logistic Regression Model"
   ]
  },
  {
   "cell_type": "code",
   "execution_count": 111,
   "metadata": {},
   "outputs": [],
   "source": [
    "#fit multiple linear regression model w/o ridge regularization\n",
    "\n",
    "lm = linear_model.LogisticRegression()\n",
    "result = lm.fit(x_train, y_train)\n",
    "y_train_pred = lm.predict(x_train)\n",
    "y_test_pred = lm.predict(x_test)\n"
   ]
  },
  {
   "cell_type": "code",
   "execution_count": 112,
   "metadata": {},
   "outputs": [
    {
     "name": "stdout",
     "output_type": "stream",
     "text": [
      "The mean squared error in sample is  0.04926108374384237\n",
      "The mean squared error out of sample is  0.09803921568627451\n"
     ]
    }
   ],
   "source": [
    "#evaluation metrics \n",
    "from sklearn.metrics import mean_squared_error\n",
    "\n",
    "#MSE X_train \n",
    "print('The mean squared error in sample is ', mean_squared_error(y_train, y_train_pred))\n",
    "\n",
    "#MSE X_test\n",
    "print('The mean squared error out of sample is ', mean_squared_error(y_test, y_test_pred))"
   ]
  },
  {
   "cell_type": "code",
   "execution_count": 113,
   "metadata": {},
   "outputs": [
    {
     "data": {
      "text/plain": [
       "array([[-3.67065551e-05, -1.01805041e-04, -6.54087177e-01,\n",
       "         1.34869120e+00,  2.32302028e-04, -6.59722246e-01,\n",
       "         1.36551573e+00,  7.49433408e-01, -3.96708035e-01,\n",
       "         3.66217731e-01,  3.52566267e-01,  1.29151129e+00,\n",
       "         1.21409129e-01, -7.06672740e-01,  1.25363224e-02]])"
      ]
     },
     "execution_count": 113,
     "metadata": {},
     "output_type": "execute_result"
    }
   ],
   "source": [
    "#coefficients\n",
    "lm.coef_"
   ]
  },
  {
   "cell_type": "code",
   "execution_count": 115,
   "metadata": {},
   "outputs": [
    {
     "data": {
      "text/plain": [
       "1.7740691718830224"
      ]
     },
     "execution_count": 115,
     "metadata": {},
     "output_type": "execute_result"
    }
   ],
   "source": [
    "#MAE \n",
    "mae_mlr = mean_absolute_error(np.exp(y_test_pred), y_test)\n",
    "mae_mlr"
   ]
  },
  {
   "cell_type": "code",
   "execution_count": 156,
   "metadata": {},
   "outputs": [
    {
     "data": {
      "text/plain": [
       "array([[ 3,  5],\n",
       "       [ 0, 43]])"
      ]
     },
     "execution_count": 156,
     "metadata": {},
     "output_type": "execute_result"
    }
   ],
   "source": [
    "#confusion matrix\n",
    "confusion_matrix(y_test, y_test_pred)"
   ]
  },
  {
   "cell_type": "markdown",
   "metadata": {},
   "source": [
    "3 true positives, 5 false positives, 0 false negatives, 43 true negatives "
   ]
  },
  {
   "cell_type": "markdown",
   "metadata": {},
   "source": [
    "## Prediction for 2018 Midterm "
   ]
  },
  {
   "cell_type": "code",
   "execution_count": 116,
   "metadata": {},
   "outputs": [],
   "source": [
    "#read in data for 2018 projected demographics\n",
    "demo_2018 = pd.read_csv('2018allcntyagegrp.csv')"
   ]
  },
  {
   "cell_type": "code",
   "execution_count": 117,
   "metadata": {},
   "outputs": [
    {
     "data": {
      "text/html": [
       "<div>\n",
       "<style scoped>\n",
       "    .dataframe tbody tr th:only-of-type {\n",
       "        vertical-align: middle;\n",
       "    }\n",
       "\n",
       "    .dataframe tbody tr th {\n",
       "        vertical-align: top;\n",
       "    }\n",
       "\n",
       "    .dataframe thead th {\n",
       "        text-align: right;\n",
       "    }\n",
       "</style>\n",
       "<table border=\"1\" class=\"dataframe\">\n",
       "  <thead>\n",
       "    <tr style=\"text-align: right;\">\n",
       "      <th></th>\n",
       "      <th>FIPS</th>\n",
       "      <th>area_name</th>\n",
       "      <th>year</th>\n",
       "      <th>age_group</th>\n",
       "      <th>total</th>\n",
       "      <th>total_male</th>\n",
       "      <th>total_female</th>\n",
       "      <th>nh_white_total</th>\n",
       "      <th>nh_white_male</th>\n",
       "      <th>nh_white_female</th>\n",
       "      <th>...</th>\n",
       "      <th>nh_black_female</th>\n",
       "      <th>hispanic_total</th>\n",
       "      <th>hispanic_male</th>\n",
       "      <th>hispanic_female</th>\n",
       "      <th>nh_asian_total</th>\n",
       "      <th>nh_asian_male</th>\n",
       "      <th>nh_asian_female</th>\n",
       "      <th>nh_other_total</th>\n",
       "      <th>nh_other_male</th>\n",
       "      <th>nh_other_female</th>\n",
       "    </tr>\n",
       "  </thead>\n",
       "  <tbody>\n",
       "    <tr>\n",
       "      <th>0</th>\n",
       "      <td>0</td>\n",
       "      <td>State of Texas</td>\n",
       "      <td>2010</td>\n",
       "      <td>ALL</td>\n",
       "      <td>25145561</td>\n",
       "      <td>12472280</td>\n",
       "      <td>12673281</td>\n",
       "      <td>11397345</td>\n",
       "      <td>5632646</td>\n",
       "      <td>5764699</td>\n",
       "      <td>...</td>\n",
       "      <td>1494415</td>\n",
       "      <td>9460921</td>\n",
       "      <td>4763753</td>\n",
       "      <td>4697168</td>\n",
       "      <td>948426</td>\n",
       "      <td>460855</td>\n",
       "      <td>487571</td>\n",
       "      <td>452044</td>\n",
       "      <td>222616</td>\n",
       "      <td>229428</td>\n",
       "    </tr>\n",
       "    <tr>\n",
       "      <th>1</th>\n",
       "      <td>0</td>\n",
       "      <td>State of Texas</td>\n",
       "      <td>2010</td>\n",
       "      <td>&lt;18</td>\n",
       "      <td>6865824</td>\n",
       "      <td>3510249</td>\n",
       "      <td>3355575</td>\n",
       "      <td>2322661</td>\n",
       "      <td>1193025</td>\n",
       "      <td>1129636</td>\n",
       "      <td>...</td>\n",
       "      <td>397169</td>\n",
       "      <td>3317777</td>\n",
       "      <td>1693278</td>\n",
       "      <td>1624499</td>\n",
       "      <td>231458</td>\n",
       "      <td>117576</td>\n",
       "      <td>113882</td>\n",
       "      <td>183385</td>\n",
       "      <td>92996</td>\n",
       "      <td>90389</td>\n",
       "    </tr>\n",
       "    <tr>\n",
       "      <th>2</th>\n",
       "      <td>0</td>\n",
       "      <td>State of Texas</td>\n",
       "      <td>2010</td>\n",
       "      <td>18-24</td>\n",
       "      <td>2572969</td>\n",
       "      <td>1321619</td>\n",
       "      <td>1251350</td>\n",
       "      <td>994473</td>\n",
       "      <td>506474</td>\n",
       "      <td>487999</td>\n",
       "      <td>...</td>\n",
       "      <td>161682</td>\n",
       "      <td>1112368</td>\n",
       "      <td>580812</td>\n",
       "      <td>531556</td>\n",
       "      <td>92536</td>\n",
       "      <td>48072</td>\n",
       "      <td>44464</td>\n",
       "      <td>50155</td>\n",
       "      <td>24506</td>\n",
       "      <td>25649</td>\n",
       "    </tr>\n",
       "    <tr>\n",
       "      <th>3</th>\n",
       "      <td>0</td>\n",
       "      <td>State of Texas</td>\n",
       "      <td>2010</td>\n",
       "      <td>25-44</td>\n",
       "      <td>7071855</td>\n",
       "      <td>3544857</td>\n",
       "      <td>3526998</td>\n",
       "      <td>2934239</td>\n",
       "      <td>1478661</td>\n",
       "      <td>1455578</td>\n",
       "      <td>...</td>\n",
       "      <td>438116</td>\n",
       "      <td>2844435</td>\n",
       "      <td>1445962</td>\n",
       "      <td>1398473</td>\n",
       "      <td>339915</td>\n",
       "      <td>163030</td>\n",
       "      <td>176885</td>\n",
       "      <td>111626</td>\n",
       "      <td>53680</td>\n",
       "      <td>57946</td>\n",
       "    </tr>\n",
       "    <tr>\n",
       "      <th>4</th>\n",
       "      <td>0</td>\n",
       "      <td>State of Texas</td>\n",
       "      <td>2010</td>\n",
       "      <td>45-64</td>\n",
       "      <td>6033027</td>\n",
       "      <td>2959891</td>\n",
       "      <td>3073136</td>\n",
       "      <td>3385907</td>\n",
       "      <td>1674984</td>\n",
       "      <td>1710923</td>\n",
       "      <td>...</td>\n",
       "      <td>365896</td>\n",
       "      <td>1653420</td>\n",
       "      <td>815272</td>\n",
       "      <td>838148</td>\n",
       "      <td>219216</td>\n",
       "      <td>102787</td>\n",
       "      <td>116429</td>\n",
       "      <td>81653</td>\n",
       "      <td>39913</td>\n",
       "      <td>41740</td>\n",
       "    </tr>\n",
       "  </tbody>\n",
       "</table>\n",
       "<p>5 rows × 22 columns</p>\n",
       "</div>"
      ],
      "text/plain": [
       "   FIPS       area_name  year age_group     total  total_male  total_female  \\\n",
       "0     0  State of Texas  2010       ALL  25145561    12472280      12673281   \n",
       "1     0  State of Texas  2010       <18   6865824     3510249       3355575   \n",
       "2     0  State of Texas  2010     18-24   2572969     1321619       1251350   \n",
       "3     0  State of Texas  2010     25-44   7071855     3544857       3526998   \n",
       "4     0  State of Texas  2010     45-64   6033027     2959891       3073136   \n",
       "\n",
       "   nh_white_total  nh_white_male  nh_white_female       ...         \\\n",
       "0        11397345        5632646          5764699       ...          \n",
       "1         2322661        1193025          1129636       ...          \n",
       "2          994473         506474           487999       ...          \n",
       "3         2934239        1478661          1455578       ...          \n",
       "4         3385907        1674984          1710923       ...          \n",
       "\n",
       "   nh_black_female  hispanic_total  hispanic_male  hispanic_female  \\\n",
       "0          1494415         9460921        4763753          4697168   \n",
       "1           397169         3317777        1693278          1624499   \n",
       "2           161682         1112368         580812           531556   \n",
       "3           438116         2844435        1445962          1398473   \n",
       "4           365896         1653420         815272           838148   \n",
       "\n",
       "   nh_asian_total  nh_asian_male  nh_asian_female  nh_other_total  \\\n",
       "0          948426         460855           487571          452044   \n",
       "1          231458         117576           113882          183385   \n",
       "2           92536          48072            44464           50155   \n",
       "3          339915         163030           176885          111626   \n",
       "4          219216         102787           116429           81653   \n",
       "\n",
       "   nh_other_male  nh_other_female  \n",
       "0         222616           229428  \n",
       "1          92996            90389  \n",
       "2          24506            25649  \n",
       "3          53680            57946  \n",
       "4          39913            41740  \n",
       "\n",
       "[5 rows x 22 columns]"
      ]
     },
     "execution_count": 117,
     "metadata": {},
     "output_type": "execute_result"
    }
   ],
   "source": [
    "demo_2018.head()"
   ]
  },
  {
   "cell_type": "code",
   "execution_count": 118,
   "metadata": {},
   "outputs": [],
   "source": [
    "#need to filter out State of Texas, all years except 2018 and age group ALL\n",
    "demo_2018 = demo_2018[demo_2018['age_group'] == 'ALL']\n",
    "demo_2018 = demo_2018[demo_2018['year']==2018]\n",
    "demo_2018=demo_2018.drop(demo_2018.index[0])"
   ]
  },
  {
   "cell_type": "code",
   "execution_count": 119,
   "metadata": {},
   "outputs": [
    {
     "data": {
      "text/plain": [
       "(254, 22)"
      ]
     },
     "execution_count": 119,
     "metadata": {},
     "output_type": "execute_result"
    }
   ],
   "source": [
    "demo_2018.shape"
   ]
  },
  {
   "cell_type": "code",
   "execution_count": 120,
   "metadata": {},
   "outputs": [
    {
     "data": {
      "text/html": [
       "<div>\n",
       "<style scoped>\n",
       "    .dataframe tbody tr th:only-of-type {\n",
       "        vertical-align: middle;\n",
       "    }\n",
       "\n",
       "    .dataframe tbody tr th {\n",
       "        vertical-align: top;\n",
       "    }\n",
       "\n",
       "    .dataframe thead th {\n",
       "        text-align: right;\n",
       "    }\n",
       "</style>\n",
       "<table border=\"1\" class=\"dataframe\">\n",
       "  <thead>\n",
       "    <tr style=\"text-align: right;\">\n",
       "      <th></th>\n",
       "      <th>FIPS</th>\n",
       "      <th>area_name</th>\n",
       "      <th>year</th>\n",
       "      <th>age_group</th>\n",
       "      <th>total</th>\n",
       "      <th>total_male</th>\n",
       "      <th>total_female</th>\n",
       "      <th>nh_white_total</th>\n",
       "      <th>nh_white_male</th>\n",
       "      <th>nh_white_female</th>\n",
       "      <th>...</th>\n",
       "      <th>nh_black_female</th>\n",
       "      <th>hispanic_total</th>\n",
       "      <th>hispanic_male</th>\n",
       "      <th>hispanic_female</th>\n",
       "      <th>nh_asian_total</th>\n",
       "      <th>nh_asian_male</th>\n",
       "      <th>nh_asian_female</th>\n",
       "      <th>nh_other_total</th>\n",
       "      <th>nh_other_male</th>\n",
       "      <th>nh_other_female</th>\n",
       "    </tr>\n",
       "  </thead>\n",
       "  <tbody>\n",
       "    <tr>\n",
       "      <th>294</th>\n",
       "      <td>1</td>\n",
       "      <td>Anderson County</td>\n",
       "      <td>2018</td>\n",
       "      <td>ALL</td>\n",
       "      <td>58293</td>\n",
       "      <td>35999</td>\n",
       "      <td>22294</td>\n",
       "      <td>34179</td>\n",
       "      <td>19249</td>\n",
       "      <td>14930</td>\n",
       "      <td>...</td>\n",
       "      <td>3100</td>\n",
       "      <td>10658</td>\n",
       "      <td>7092</td>\n",
       "      <td>3566</td>\n",
       "      <td>320</td>\n",
       "      <td>158</td>\n",
       "      <td>162</td>\n",
       "      <td>1048</td>\n",
       "      <td>512</td>\n",
       "      <td>536</td>\n",
       "    </tr>\n",
       "    <tr>\n",
       "      <th>540</th>\n",
       "      <td>3</td>\n",
       "      <td>Andrews County</td>\n",
       "      <td>2018</td>\n",
       "      <td>ALL</td>\n",
       "      <td>20388</td>\n",
       "      <td>10441</td>\n",
       "      <td>9947</td>\n",
       "      <td>7540</td>\n",
       "      <td>3797</td>\n",
       "      <td>3743</td>\n",
       "      <td>...</td>\n",
       "      <td>112</td>\n",
       "      <td>12263</td>\n",
       "      <td>6354</td>\n",
       "      <td>5909</td>\n",
       "      <td>92</td>\n",
       "      <td>43</td>\n",
       "      <td>49</td>\n",
       "      <td>267</td>\n",
       "      <td>133</td>\n",
       "      <td>134</td>\n",
       "    </tr>\n",
       "    <tr>\n",
       "      <th>786</th>\n",
       "      <td>5</td>\n",
       "      <td>Angelina County</td>\n",
       "      <td>2018</td>\n",
       "      <td>ALL</td>\n",
       "      <td>89861</td>\n",
       "      <td>44098</td>\n",
       "      <td>45763</td>\n",
       "      <td>53784</td>\n",
       "      <td>26277</td>\n",
       "      <td>27507</td>\n",
       "      <td>...</td>\n",
       "      <td>7141</td>\n",
       "      <td>20211</td>\n",
       "      <td>10328</td>\n",
       "      <td>9883</td>\n",
       "      <td>855</td>\n",
       "      <td>389</td>\n",
       "      <td>466</td>\n",
       "      <td>1475</td>\n",
       "      <td>709</td>\n",
       "      <td>766</td>\n",
       "    </tr>\n",
       "    <tr>\n",
       "      <th>1032</th>\n",
       "      <td>7</td>\n",
       "      <td>Aransas County</td>\n",
       "      <td>2018</td>\n",
       "      <td>ALL</td>\n",
       "      <td>26700</td>\n",
       "      <td>13304</td>\n",
       "      <td>13396</td>\n",
       "      <td>17757</td>\n",
       "      <td>8663</td>\n",
       "      <td>9094</td>\n",
       "      <td>...</td>\n",
       "      <td>127</td>\n",
       "      <td>7700</td>\n",
       "      <td>4005</td>\n",
       "      <td>3695</td>\n",
       "      <td>472</td>\n",
       "      <td>234</td>\n",
       "      <td>238</td>\n",
       "      <td>481</td>\n",
       "      <td>239</td>\n",
       "      <td>242</td>\n",
       "    </tr>\n",
       "    <tr>\n",
       "      <th>1278</th>\n",
       "      <td>9</td>\n",
       "      <td>Archer County</td>\n",
       "      <td>2018</td>\n",
       "      <td>ALL</td>\n",
       "      <td>8452</td>\n",
       "      <td>4185</td>\n",
       "      <td>4267</td>\n",
       "      <td>7363</td>\n",
       "      <td>3598</td>\n",
       "      <td>3765</td>\n",
       "      <td>...</td>\n",
       "      <td>19</td>\n",
       "      <td>856</td>\n",
       "      <td>480</td>\n",
       "      <td>376</td>\n",
       "      <td>18</td>\n",
       "      <td>8</td>\n",
       "      <td>10</td>\n",
       "      <td>171</td>\n",
       "      <td>74</td>\n",
       "      <td>97</td>\n",
       "    </tr>\n",
       "  </tbody>\n",
       "</table>\n",
       "<p>5 rows × 22 columns</p>\n",
       "</div>"
      ],
      "text/plain": [
       "      FIPS        area_name  year age_group  total  total_male  total_female  \\\n",
       "294      1  Anderson County  2018       ALL  58293       35999         22294   \n",
       "540      3   Andrews County  2018       ALL  20388       10441          9947   \n",
       "786      5  Angelina County  2018       ALL  89861       44098         45763   \n",
       "1032     7   Aransas County  2018       ALL  26700       13304         13396   \n",
       "1278     9    Archer County  2018       ALL   8452        4185          4267   \n",
       "\n",
       "      nh_white_total  nh_white_male  nh_white_female       ...         \\\n",
       "294            34179          19249            14930       ...          \n",
       "540             7540           3797             3743       ...          \n",
       "786            53784          26277            27507       ...          \n",
       "1032           17757           8663             9094       ...          \n",
       "1278            7363           3598             3765       ...          \n",
       "\n",
       "      nh_black_female  hispanic_total  hispanic_male  hispanic_female  \\\n",
       "294              3100           10658           7092             3566   \n",
       "540               112           12263           6354             5909   \n",
       "786              7141           20211          10328             9883   \n",
       "1032              127            7700           4005             3695   \n",
       "1278               19             856            480              376   \n",
       "\n",
       "      nh_asian_total  nh_asian_male  nh_asian_female  nh_other_total  \\\n",
       "294              320            158              162            1048   \n",
       "540               92             43               49             267   \n",
       "786              855            389              466            1475   \n",
       "1032             472            234              238             481   \n",
       "1278              18              8               10             171   \n",
       "\n",
       "      nh_other_male  nh_other_female  \n",
       "294             512              536  \n",
       "540             133              134  \n",
       "786             709              766  \n",
       "1032            239              242  \n",
       "1278             74               97  \n",
       "\n",
       "[5 rows x 22 columns]"
      ]
     },
     "execution_count": 120,
     "metadata": {},
     "output_type": "execute_result"
    }
   ],
   "source": [
    "demo_2018.head()"
   ]
  },
  {
   "cell_type": "code",
   "execution_count": 121,
   "metadata": {},
   "outputs": [],
   "source": [
    "#matching spellings of de witt county for merging \n",
    "demo_2018.replace(to_replace = 'De Witt County', value = 'dewitt county', regex=True, inplace=True)"
   ]
  },
  {
   "cell_type": "code",
   "execution_count": 122,
   "metadata": {},
   "outputs": [],
   "source": [
    "#merge with new_df to get \n",
    "demo_2018['county'] = demo_2018['area_name'].map(lambda x: x.lower())\n",
    "df_2018 = demo_2018.merge(df, left_on='county', right_on='county')"
   ]
  },
  {
   "cell_type": "code",
   "execution_count": 123,
   "metadata": {},
   "outputs": [
    {
     "data": {
      "text/plain": [
       "Index(['FIPS', 'area_name', 'year', 'age_group', 'total', 'total_male',\n",
       "       'total_female', 'nh_white_total', 'nh_white_male', 'nh_white_female',\n",
       "       'nh_black_total', 'nh_black_male', 'nh_black_female', 'hispanic_total',\n",
       "       'hispanic_male', 'hispanic_female', 'nh_asian_total', 'nh_asian_male',\n",
       "       'nh_asian_female', 'nh_other_total', 'nh_other_male', 'nh_other_female',\n",
       "       'county', 'county_pop', '2016_votes', 'clinton_votes',\n",
       "       'clinton_percent', 'trump_votes', 'trump_percent', '2012_votes',\n",
       "       'obama_votes', 'obama_percent', 'romney_votes', 'romney_percent',\n",
       "       'Metropolitan Statistical Area', 'Micropolitan Statistical Area'],\n",
       "      dtype='object')"
      ]
     },
     "execution_count": 123,
     "metadata": {},
     "output_type": "execute_result"
    }
   ],
   "source": [
    "df_2018.columns"
   ]
  },
  {
   "cell_type": "code",
   "execution_count": 124,
   "metadata": {},
   "outputs": [],
   "source": [
    "#new dataframe for X input to predict based on updated demographics \n",
    "Xnew = pd.DataFrame()\n",
    "Xnew['county_pop'] = df_2018['total']\n",
    "Xnew['2016_votes'] = df_2018['2016_votes']\n",
    "Xnew['clinton_percent'] = df_2018['clinton_percent']\n",
    "Xnew['trump_percent'] = df_2018['trump_percent']\n",
    "Xnew['2012_votes'] = df_2018['2012_votes']\n",
    "Xnew['obama_percent'] = df_2018['obama_percent']\n",
    "Xnew['romney_percent'] = df_2018['romney_percent']\n",
    "Xnew['Metropolitan Statistical Area'] = df_2018['Metropolitan Statistical Area']\n",
    "Xnew['Micropolitan Statistical Area'] = df_2018['Micropolitan Statistical Area']\n",
    "Xnew['female_percent'] = df_2018['total_female']/df_2018['total']\n",
    "Xnew['male_percent'] = df_2018['total_male']/df_2018['total']\n",
    "Xnew['white_percent'] =  df_2018['nh_white_total']/df_2018['total']\n",
    "Xnew['black_percent'] = df_2018['nh_black_total']/df_2018['total']\n",
    "Xnew['hispanic_percent'] = df_2018['hispanic_total']/df_2018['total']\n",
    "Xnew['other_race_percent'] = (df_2018['nh_other_total'] + df_2018['nh_asian_total'])/df_2018['total']"
   ]
  },
  {
   "cell_type": "code",
   "execution_count": 125,
   "metadata": {},
   "outputs": [],
   "source": [
    "#apply function to remove %\n",
    "Xnew['clinton_percent']=Xnew['clinton_percent'].map(decimal)\n",
    "Xnew['trump_percent']=Xnew['trump_percent'].map(decimal)\n",
    "Xnew['obama_percent']=Xnew['obama_percent'].map(decimal)\n",
    "Xnew['romney_percent']=Xnew['romney_percent'].map(decimal)"
   ]
  },
  {
   "cell_type": "code",
   "execution_count": 126,
   "metadata": {},
   "outputs": [],
   "source": [
    "#reomving commas from columns needed for model \n",
    "Xnew['2012_votes'] = Xnew['2012_votes'].map(lambda x: x.replace(',',''))\n",
    "Xnew['2016_votes'] = Xnew['2016_votes'].map(lambda x: x.replace(',',''))"
   ]
  },
  {
   "cell_type": "code",
   "execution_count": 127,
   "metadata": {},
   "outputs": [
    {
     "data": {
      "text/html": [
       "<div>\n",
       "<style scoped>\n",
       "    .dataframe tbody tr th:only-of-type {\n",
       "        vertical-align: middle;\n",
       "    }\n",
       "\n",
       "    .dataframe tbody tr th {\n",
       "        vertical-align: top;\n",
       "    }\n",
       "\n",
       "    .dataframe thead th {\n",
       "        text-align: right;\n",
       "    }\n",
       "</style>\n",
       "<table border=\"1\" class=\"dataframe\">\n",
       "  <thead>\n",
       "    <tr style=\"text-align: right;\">\n",
       "      <th></th>\n",
       "      <th>county_pop</th>\n",
       "      <th>2016_votes</th>\n",
       "      <th>clinton_percent</th>\n",
       "      <th>trump_percent</th>\n",
       "      <th>2012_votes</th>\n",
       "      <th>obama_percent</th>\n",
       "      <th>romney_percent</th>\n",
       "      <th>Metropolitan Statistical Area</th>\n",
       "      <th>Micropolitan Statistical Area</th>\n",
       "      <th>female_percent</th>\n",
       "      <th>male_percent</th>\n",
       "      <th>white_percent</th>\n",
       "      <th>black_percent</th>\n",
       "      <th>hispanic_percent</th>\n",
       "      <th>other_race_percent</th>\n",
       "    </tr>\n",
       "  </thead>\n",
       "  <tbody>\n",
       "    <tr>\n",
       "      <th>0</th>\n",
       "      <td>58293</td>\n",
       "      <td>16887</td>\n",
       "      <td>0.1989</td>\n",
       "      <td>0.7796</td>\n",
       "      <td>16167</td>\n",
       "      <td>0.2348</td>\n",
       "      <td>0.7568</td>\n",
       "      <td>0</td>\n",
       "      <td>1</td>\n",
       "      <td>0.382447</td>\n",
       "      <td>0.617553</td>\n",
       "      <td>0.586331</td>\n",
       "      <td>0.207366</td>\n",
       "      <td>0.182835</td>\n",
       "      <td>0.023468</td>\n",
       "    </tr>\n",
       "    <tr>\n",
       "      <th>1</th>\n",
       "      <td>20388</td>\n",
       "      <td>4926</td>\n",
       "      <td>0.1697</td>\n",
       "      <td>0.7968</td>\n",
       "      <td>4476</td>\n",
       "      <td>0.1774</td>\n",
       "      <td>0.8123</td>\n",
       "      <td>0</td>\n",
       "      <td>1</td>\n",
       "      <td>0.487885</td>\n",
       "      <td>0.512115</td>\n",
       "      <td>0.369825</td>\n",
       "      <td>0.011085</td>\n",
       "      <td>0.601481</td>\n",
       "      <td>0.017608</td>\n",
       "    </tr>\n",
       "    <tr>\n",
       "      <th>2</th>\n",
       "      <td>89861</td>\n",
       "      <td>29870</td>\n",
       "      <td>0.2524</td>\n",
       "      <td>0.7253</td>\n",
       "      <td>28403</td>\n",
       "      <td>0.2758</td>\n",
       "      <td>0.7147</td>\n",
       "      <td>0</td>\n",
       "      <td>1</td>\n",
       "      <td>0.509264</td>\n",
       "      <td>0.490736</td>\n",
       "      <td>0.598524</td>\n",
       "      <td>0.150633</td>\n",
       "      <td>0.224914</td>\n",
       "      <td>0.025929</td>\n",
       "    </tr>\n",
       "    <tr>\n",
       "      <th>3</th>\n",
       "      <td>26700</td>\n",
       "      <td>10467</td>\n",
       "      <td>0.2348</td>\n",
       "      <td>0.7385</td>\n",
       "      <td>9646</td>\n",
       "      <td>0.2802</td>\n",
       "      <td>0.7080</td>\n",
       "      <td>1</td>\n",
       "      <td>0</td>\n",
       "      <td>0.501723</td>\n",
       "      <td>0.498277</td>\n",
       "      <td>0.665056</td>\n",
       "      <td>0.010861</td>\n",
       "      <td>0.288390</td>\n",
       "      <td>0.035693</td>\n",
       "    </tr>\n",
       "    <tr>\n",
       "      <th>4</th>\n",
       "      <td>8452</td>\n",
       "      <td>4269</td>\n",
       "      <td>0.0923</td>\n",
       "      <td>0.8866</td>\n",
       "      <td>4163</td>\n",
       "      <td>0.1261</td>\n",
       "      <td>0.8645</td>\n",
       "      <td>1</td>\n",
       "      <td>0</td>\n",
       "      <td>0.504851</td>\n",
       "      <td>0.495149</td>\n",
       "      <td>0.871155</td>\n",
       "      <td>0.005206</td>\n",
       "      <td>0.101278</td>\n",
       "      <td>0.022362</td>\n",
       "    </tr>\n",
       "  </tbody>\n",
       "</table>\n",
       "</div>"
      ],
      "text/plain": [
       "   county_pop 2016_votes  clinton_percent  trump_percent 2012_votes  \\\n",
       "0       58293     16887            0.1989         0.7796     16167    \n",
       "1       20388      4926            0.1697         0.7968      4476    \n",
       "2       89861     29870            0.2524         0.7253     28403    \n",
       "3       26700     10467            0.2348         0.7385      9646    \n",
       "4        8452      4269            0.0923         0.8866      4163    \n",
       "\n",
       "   obama_percent  romney_percent  Metropolitan Statistical Area  \\\n",
       "0         0.2348          0.7568                              0   \n",
       "1         0.1774          0.8123                              0   \n",
       "2         0.2758          0.7147                              0   \n",
       "3         0.2802          0.7080                              1   \n",
       "4         0.1261          0.8645                              1   \n",
       "\n",
       "   Micropolitan Statistical Area  female_percent  male_percent  white_percent  \\\n",
       "0                              1        0.382447      0.617553       0.586331   \n",
       "1                              1        0.487885      0.512115       0.369825   \n",
       "2                              1        0.509264      0.490736       0.598524   \n",
       "3                              0        0.501723      0.498277       0.665056   \n",
       "4                              0        0.504851      0.495149       0.871155   \n",
       "\n",
       "   black_percent  hispanic_percent  other_race_percent  \n",
       "0       0.207366          0.182835            0.023468  \n",
       "1       0.011085          0.601481            0.017608  \n",
       "2       0.150633          0.224914            0.025929  \n",
       "3       0.010861          0.288390            0.035693  \n",
       "4       0.005206          0.101278            0.022362  "
      ]
     },
     "execution_count": 127,
     "metadata": {},
     "output_type": "execute_result"
    }
   ],
   "source": [
    "Xnew.head()"
   ]
  },
  {
   "cell_type": "code",
   "execution_count": 94,
   "metadata": {},
   "outputs": [],
   "source": [
    "Xnew.to_csv('demo_2018.csv', encoding='utf-8')"
   ]
  },
  {
   "cell_type": "code",
   "execution_count": 97,
   "metadata": {},
   "outputs": [],
   "source": [
    "#Xnew = Xnew.drop(['2012_votes', '2016_votes'], axis=1)"
   ]
  },
  {
   "cell_type": "code",
   "execution_count": 128,
   "metadata": {},
   "outputs": [
    {
     "data": {
      "text/plain": [
       "Index(['county_pop', '2016_votes', 'clinton_percent', 'trump_percent',\n",
       "       '2012_votes', 'obama_percent', 'romney_percent',\n",
       "       'Metropolitan Statistical Area', 'Micropolitan Statistical Area',\n",
       "       'female_percent', 'male_percent', 'white_percent', 'black_percent',\n",
       "       'hispanic_percent', 'other_race_percent'],\n",
       "      dtype='object')"
      ]
     },
     "execution_count": 128,
     "metadata": {},
     "output_type": "execute_result"
    }
   ],
   "source": [
    "x.columns"
   ]
  },
  {
   "cell_type": "code",
   "execution_count": 129,
   "metadata": {},
   "outputs": [
    {
     "data": {
      "text/plain": [
       "Index(['county_pop', '2016_votes', 'clinton_percent', 'trump_percent',\n",
       "       '2012_votes', 'obama_percent', 'romney_percent',\n",
       "       'Metropolitan Statistical Area', 'Micropolitan Statistical Area',\n",
       "       'female_percent', 'male_percent', 'white_percent', 'black_percent',\n",
       "       'hispanic_percent', 'other_race_percent'],\n",
       "      dtype='object')"
      ]
     },
     "execution_count": 129,
     "metadata": {},
     "output_type": "execute_result"
    }
   ],
   "source": [
    "Xnew.columns"
   ]
  },
  {
   "cell_type": "markdown",
   "metadata": {},
   "source": [
    "#### Prediction using Logistic Regression model "
   ]
  },
  {
   "cell_type": "code",
   "execution_count": 130,
   "metadata": {},
   "outputs": [],
   "source": [
    "#predict y's for new data points\n",
    "ynew = lm.predict(Xnew)"
   ]
  },
  {
   "cell_type": "code",
   "execution_count": 131,
   "metadata": {},
   "outputs": [],
   "source": [
    "#round everything to get 1's or 0's \n",
    "ynew = abs(ynew.round(decimals=0))"
   ]
  },
  {
   "cell_type": "code",
   "execution_count": 132,
   "metadata": {},
   "outputs": [
    {
     "data": {
      "text/plain": [
       "{0: 15, 1: 239}"
      ]
     },
     "execution_count": 132,
     "metadata": {},
     "output_type": "execute_result"
    }
   ],
   "source": [
    "unique, counts = numpy.unique(ynew, return_counts=True)\n",
    "dict(zip(unique, counts))"
   ]
  },
  {
   "cell_type": "markdown",
   "metadata": {},
   "source": [
    "#### Prediction using Ridge Classifier "
   ]
  },
  {
   "cell_type": "code",
   "execution_count": 133,
   "metadata": {},
   "outputs": [],
   "source": [
    "ynew2 = ridge.predict(Xnew)"
   ]
  },
  {
   "cell_type": "code",
   "execution_count": 134,
   "metadata": {},
   "outputs": [],
   "source": [
    "#round everything to get 1's or 0's \n",
    "ynew2 = abs(ynew2.round(decimals=0))"
   ]
  },
  {
   "cell_type": "code",
   "execution_count": 135,
   "metadata": {},
   "outputs": [
    {
     "data": {
      "text/plain": [
       "{0: 7, 1: 247}"
      ]
     },
     "execution_count": 135,
     "metadata": {},
     "output_type": "execute_result"
    }
   ],
   "source": [
    "unique, counts = numpy.unique(ynew2, return_counts=True)\n",
    "dict(zip(unique, counts))"
   ]
  },
  {
   "cell_type": "markdown",
   "metadata": {},
   "source": [
    "### After updated demographic variables for 2018, Logistic Regression predicted 15 counties would vote Democrat, and 239 would vote Republican.  The Ridge Classifier model predicted 7 counties would vote Democrat and 239 would vote Republican. "
   ]
  },
  {
   "cell_type": "markdown",
   "metadata": {},
   "source": [
    "###  Actual result of 2018 Senate midtern election: Texas 222 counties voted Republican (Cruz), 32 counties voted Democrat (O'Rourke)"
   ]
  }
 ],
 "metadata": {
  "kernelspec": {
   "display_name": "Python 3",
   "language": "python",
   "name": "python3"
  },
  "language_info": {
   "codemirror_mode": {
    "name": "ipython",
    "version": 3
   },
   "file_extension": ".py",
   "mimetype": "text/x-python",
   "name": "python",
   "nbconvert_exporter": "python",
   "pygments_lexer": "ipython3",
   "version": "3.6.5"
  }
 },
 "nbformat": 4,
 "nbformat_minor": 2
}
